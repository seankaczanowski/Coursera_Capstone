{
    "cells": [
        {
            "metadata": {},
            "cell_type": "markdown",
            "source": "# Vancouver Coffee Community Ecology"
        },
        {
            "metadata": {},
            "cell_type": "markdown",
            "source": "### Determining the underlying factors that contribute to the assemblage of coffee shops in the corporate communities of Vancouver using the principles of plant community ecology"
        },
        {
            "metadata": {},
            "cell_type": "markdown",
            "source": "### Sean Kaczanowski"
        },
        {
            "metadata": {},
            "cell_type": "markdown",
            "source": "## Introduction/Business Problem"
        },
        {
            "metadata": {},
            "cell_type": "markdown",
            "source": "Coffee is a universally consumed beverage the world over. Coffee transcends both socio-economic classes as well as cultural boundaries. On street corners in neighbourhoods around the world, coffee shops are a staple of any corporate community. The city of Vancouver in Canada represents a perfect microcosm of this. The neighbourhoods and communities within are extremely diverse both socio-economically and culturally.\n\nCoffee consumption is universal but how it is consumed is not. The preferences for how a coffee is prepared and the types of establishments that sell coffee are as diverse as those who consume it. From the price of a coffee to how a coffee is prepared to the types of establishments that sell coffee, the assemblage of coffee shops in any given community is a reflection of the people who inhabit them. Understanding the underlying factors that contribute to the coffee shop assemblage structure in any corporate community is key to the success of those who own and operate them. This is also key for those who want to open a coffee shop in any given community. Disentangling what it is that drives the structure of coffee shop assemblages is not an obvious task, however. \n\nWhat it is that drives the structure of assemblages in plant communities is a well established field in plant community ecology. Using abiotic factors (soil, temperature, elevation, slope aspect, etc) and biotic factors (species interactions, competition, etc.), ecologists have been describing plant communities using a number of diversity metrics for well over a century. Borrowing from a plant community ecologist perspective and implementing some of the diversity metrics this report aims to shed light on what drives the assemblage of coffee shops in any given corporate community using the city of Vancouver in Canada as an example. With a novel approach, the hope is that those in the business community who own or want to own a coffee shop will have a new framework of reference to work with to help make more informed decisions when it comes to owning and operating a coffee shop within a specific community."
        },
        {
            "metadata": {},
            "cell_type": "markdown",
            "source": "## Data"
        },
        {
            "metadata": {},
            "cell_type": "markdown",
            "source": "In order to perform the analysis outlined above, several sources will be leveraged. Data obtained from the Foursquare API as well as from Statistics Canada and the City of Vancouver will be incorporated into the analyses performed by this report.\n\nThe data that will be used is as follows:\n\n**Foursquare**\n* Venue Name\n* Category\n* Latitude and Longitude\n\n**City of Vancouver**\n* Neighbourhood Names\n* Neighbourhood Polygons\n\n**Statistics Canada**\n* Median Age\n* Median Income\n* Education\n* Occupation"
        },
        {
            "metadata": {},
            "cell_type": "code",
            "source": "",
            "execution_count": null,
            "outputs": []
        }
    ],
    "metadata": {
        "kernelspec": {
            "name": "python3",
            "display_name": "Python 3.7",
            "language": "python"
        },
        "language_info": {
            "name": "python",
            "version": "3.7.10",
            "mimetype": "text/x-python",
            "codemirror_mode": {
                "name": "ipython",
                "version": 3
            },
            "pygments_lexer": "ipython3",
            "nbconvert_exporter": "python",
            "file_extension": ".py"
        }
    },
    "nbformat": 4,
    "nbformat_minor": 1
}