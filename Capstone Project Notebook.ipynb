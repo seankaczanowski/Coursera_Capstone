{
    "cells": [
        {
            "metadata": {
                "collapsed": true
            },
            "cell_type": "markdown",
            "source": "# Capstone Project Notebook\n\n## Created by Sean Kaczanowski\n\n### Week 1 Peer Graded Assignment\n\n#### This notebook:\n\n* Was created for the IBM Data Science Professional Certificate Capstone Project\n* Was to be pushed to a github respository\n* Is to be used for the peer graded assignment in week 1"
        },
        {
            "metadata": {},
            "cell_type": "code",
            "source": "import pandas as pd\n",
            "execution_count": null,
            "outputs": []
        }
    ],
    "metadata": {
        "kernelspec": {
            "name": "python3",
            "display_name": "Python 3.7",
            "language": "python"
        },
        "language_info": {
            "name": "python",
            "version": "3.7.9",
            "mimetype": "text/x-python",
            "codemirror_mode": {
                "name": "ipython",
                "version": 3
            },
            "pygments_lexer": "ipython3",
            "nbconvert_exporter": "python",
            "file_extension": ".py"
        }
    },
    "nbformat": 4,
    "nbformat_minor": 1
}